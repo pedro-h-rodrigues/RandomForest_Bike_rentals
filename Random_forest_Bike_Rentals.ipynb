{
 "cells": [
  {
   "cell_type": "markdown",
   "metadata": {},
   "source": [
    "## Utilizando um modelo de Random Forest para prever a quantidade de bicicletas alugadas em um serviço de aluguel de bicicletas"
   ]
  },
  {
   "cell_type": "markdown",
   "metadata": {},
   "source": [
    "* O objetivo desse projeto é prever a quantidade de bicicletas alugadas em um serviço de aluguel de bicicletas urbanas. \n",
    "\n",
    "* O dataset utilizado pode ser baixado no seguinte link: http://archive.ics.uci.edu/ml/datasets/Bike+Sharing+Dataset \n",
    "\n",
    "* O dataset possui 17 mil linhas e suas colunas estão descritas abaixo, o valor que buscamos estimar através de nossos modelos é o valor da coluna 'cnt' que apresenta a quantidade de bicicletas alugadas em determinada hora.\n",
    "\n",
    "  * instant - A unique sequential ID number for each row\n",
    "  * dteday - The date of the rentals\n",
    "  * season - The season in which the rentals occurred\n",
    "  * yr - The year the rentals occurred\n",
    "  * mnth - The month the rentals occurred\n",
    "  * hr - The hour the rentals occurred\n",
    "  * holiday - Whether or not the day was a holiday\n",
    "  * weekday - The day of the week (as a number, 0 to 7)\n",
    "  * workingday - Whether or not the day was a working day\n",
    "  * weathersit - The weather (as a categorical variable)\n",
    "  * temp - The temperature, on a 0-1 scale\n",
    "  * atemp - The adjusted temperature\n",
    "  * hum - The humidity, on a 0-1 scale\n",
    "  * windspeed - The wind speed, on a 0-1 scale\n",
    "  * casual - The number of casual riders (people who hadn't previously signed up with the bike sharing program)\n",
    "  * registered - The number of registered riders (people who had already signed up)\n",
    "  * cnt - The total number of bike rentals (casual + registered)\n"
   ]
  },
  {
   "cell_type": "markdown",
   "metadata": {},
   "source": [
    "## 2. Importando os módulos e carregando o dataset"
   ]
  },
  {
   "cell_type": "code",
   "execution_count": 1,
   "metadata": {
    "collapsed": false,
    "jupyter": {
     "outputs_hidden": false
    }
   },
   "outputs": [],
   "source": [
    "import pandas as pd\n",
    "import numpy as np\n",
    "import matplotlib.pyplot as plt\n",
    "from sklearn.linear_model import LinearRegression\n",
    "from sklearn.metrics import mean_squared_error\n",
    "from sklearn.tree import DecisionTreeRegressor\n",
    "from sklearn.tree import plot_tree\n",
    "from sklearn.ensemble import RandomForestRegressor\n",
    "from sklearn.model_selection import train_test_split\n",
    "from sklearn.ensemble import AdaBoostRegressor\n",
    "from sklearn.model_selection import GridSearchCV\n",
    "\n",
    "\n",
    "%matplotlib inline\n",
    "pd.set_option('display.max_columns', 100)\n",
    "bike_rentals = pd.read_csv('hour.csv')"
   ]
  },
  {
   "cell_type": "code",
   "execution_count": 2,
   "metadata": {},
   "outputs": [
    {
     "data": {
      "text/plain": [
       "instant       0\n",
       "dteday        0\n",
       "season        0\n",
       "yr            0\n",
       "mnth          0\n",
       "hr            0\n",
       "holiday       0\n",
       "weekday       0\n",
       "workingday    0\n",
       "weathersit    0\n",
       "temp          0\n",
       "atemp         0\n",
       "hum           0\n",
       "windspeed     0\n",
       "casual        0\n",
       "registered    0\n",
       "cnt           0\n",
       "dtype: int64"
      ]
     },
     "execution_count": 2,
     "metadata": {},
     "output_type": "execute_result"
    }
   ],
   "source": [
    "bike_rentals.isnull().sum() #nenhum valor nulo"
   ]
  },
  {
   "cell_type": "code",
   "execution_count": 3,
   "metadata": {
    "collapsed": false,
    "jupyter": {
     "outputs_hidden": false
    }
   },
   "outputs": [
    {
     "data": {
      "text/html": [
       "<div>\n",
       "<style scoped>\n",
       "    .dataframe tbody tr th:only-of-type {\n",
       "        vertical-align: middle;\n",
       "    }\n",
       "\n",
       "    .dataframe tbody tr th {\n",
       "        vertical-align: top;\n",
       "    }\n",
       "\n",
       "    .dataframe thead th {\n",
       "        text-align: right;\n",
       "    }\n",
       "</style>\n",
       "<table border=\"1\" class=\"dataframe\">\n",
       "  <thead>\n",
       "    <tr style=\"text-align: right;\">\n",
       "      <th></th>\n",
       "      <th>instant</th>\n",
       "      <th>dteday</th>\n",
       "      <th>season</th>\n",
       "      <th>yr</th>\n",
       "      <th>mnth</th>\n",
       "      <th>hr</th>\n",
       "      <th>holiday</th>\n",
       "      <th>weekday</th>\n",
       "      <th>workingday</th>\n",
       "      <th>weathersit</th>\n",
       "      <th>temp</th>\n",
       "      <th>atemp</th>\n",
       "      <th>hum</th>\n",
       "      <th>windspeed</th>\n",
       "      <th>casual</th>\n",
       "      <th>registered</th>\n",
       "      <th>cnt</th>\n",
       "    </tr>\n",
       "  </thead>\n",
       "  <tbody>\n",
       "    <tr>\n",
       "      <th>12348</th>\n",
       "      <td>12349</td>\n",
       "      <td>2012-06-03</td>\n",
       "      <td>2</td>\n",
       "      <td>1</td>\n",
       "      <td>6</td>\n",
       "      <td>17</td>\n",
       "      <td>0</td>\n",
       "      <td>0</td>\n",
       "      <td>0</td>\n",
       "      <td>1</td>\n",
       "      <td>0.70</td>\n",
       "      <td>0.6364</td>\n",
       "      <td>0.34</td>\n",
       "      <td>0.2537</td>\n",
       "      <td>192</td>\n",
       "      <td>386</td>\n",
       "      <td>578</td>\n",
       "    </tr>\n",
       "    <tr>\n",
       "      <th>8231</th>\n",
       "      <td>8232</td>\n",
       "      <td>2011-12-14</td>\n",
       "      <td>4</td>\n",
       "      <td>0</td>\n",
       "      <td>12</td>\n",
       "      <td>15</td>\n",
       "      <td>0</td>\n",
       "      <td>3</td>\n",
       "      <td>1</td>\n",
       "      <td>2</td>\n",
       "      <td>0.38</td>\n",
       "      <td>0.3939</td>\n",
       "      <td>0.54</td>\n",
       "      <td>0.1045</td>\n",
       "      <td>24</td>\n",
       "      <td>143</td>\n",
       "      <td>167</td>\n",
       "    </tr>\n",
       "    <tr>\n",
       "      <th>11071</th>\n",
       "      <td>11072</td>\n",
       "      <td>2012-04-11</td>\n",
       "      <td>2</td>\n",
       "      <td>1</td>\n",
       "      <td>4</td>\n",
       "      <td>12</td>\n",
       "      <td>0</td>\n",
       "      <td>3</td>\n",
       "      <td>1</td>\n",
       "      <td>2</td>\n",
       "      <td>0.36</td>\n",
       "      <td>0.3333</td>\n",
       "      <td>0.46</td>\n",
       "      <td>0.3881</td>\n",
       "      <td>35</td>\n",
       "      <td>147</td>\n",
       "      <td>182</td>\n",
       "    </tr>\n",
       "    <tr>\n",
       "      <th>1844</th>\n",
       "      <td>1845</td>\n",
       "      <td>2011-03-22</td>\n",
       "      <td>2</td>\n",
       "      <td>0</td>\n",
       "      <td>3</td>\n",
       "      <td>14</td>\n",
       "      <td>0</td>\n",
       "      <td>2</td>\n",
       "      <td>1</td>\n",
       "      <td>1</td>\n",
       "      <td>0.50</td>\n",
       "      <td>0.4848</td>\n",
       "      <td>0.42</td>\n",
       "      <td>0.3284</td>\n",
       "      <td>30</td>\n",
       "      <td>71</td>\n",
       "      <td>101</td>\n",
       "    </tr>\n",
       "    <tr>\n",
       "      <th>14790</th>\n",
       "      <td>14791</td>\n",
       "      <td>2012-09-13</td>\n",
       "      <td>3</td>\n",
       "      <td>1</td>\n",
       "      <td>9</td>\n",
       "      <td>11</td>\n",
       "      <td>0</td>\n",
       "      <td>4</td>\n",
       "      <td>1</td>\n",
       "      <td>1</td>\n",
       "      <td>0.66</td>\n",
       "      <td>0.6212</td>\n",
       "      <td>0.50</td>\n",
       "      <td>0.1642</td>\n",
       "      <td>71</td>\n",
       "      <td>183</td>\n",
       "      <td>254</td>\n",
       "    </tr>\n",
       "  </tbody>\n",
       "</table>\n",
       "</div>"
      ],
      "text/plain": [
       "       instant      dteday  season  yr  mnth  hr  holiday  weekday  \\\n",
       "12348    12349  2012-06-03       2   1     6  17        0        0   \n",
       "8231      8232  2011-12-14       4   0    12  15        0        3   \n",
       "11071    11072  2012-04-11       2   1     4  12        0        3   \n",
       "1844      1845  2011-03-22       2   0     3  14        0        2   \n",
       "14790    14791  2012-09-13       3   1     9  11        0        4   \n",
       "\n",
       "       workingday  weathersit  temp   atemp   hum  windspeed  casual  \\\n",
       "12348           0           1  0.70  0.6364  0.34     0.2537     192   \n",
       "8231            1           2  0.38  0.3939  0.54     0.1045      24   \n",
       "11071           1           2  0.36  0.3333  0.46     0.3881      35   \n",
       "1844            1           1  0.50  0.4848  0.42     0.3284      30   \n",
       "14790           1           1  0.66  0.6212  0.50     0.1642      71   \n",
       "\n",
       "       registered  cnt  \n",
       "12348         386  578  \n",
       "8231          143  167  \n",
       "11071         147  182  \n",
       "1844           71  101  \n",
       "14790         183  254  "
      ]
     },
     "execution_count": 3,
     "metadata": {},
     "output_type": "execute_result"
    }
   ],
   "source": [
    "bike_rentals.sample(5)"
   ]
  },
  {
   "cell_type": "markdown",
   "metadata": {},
   "source": [
    "## 3. Analisando a variável target 'cnt'"
   ]
  },
  {
   "cell_type": "code",
   "execution_count": 4,
   "metadata": {},
   "outputs": [
    {
     "data": {
      "text/plain": [
       "count    17379.000000\n",
       "mean       189.463088\n",
       "std        181.387599\n",
       "min          1.000000\n",
       "25%         40.000000\n",
       "50%        142.000000\n",
       "75%        281.000000\n",
       "max        977.000000\n",
       "Name: cnt, dtype: float64"
      ]
     },
     "execution_count": 4,
     "metadata": {},
     "output_type": "execute_result"
    }
   ],
   "source": [
    "bike_rentals['cnt'].describe()"
   ]
  },
  {
   "cell_type": "code",
   "execution_count": 5,
   "metadata": {},
   "outputs": [
    {
     "data": {
      "text/plain": [
       "cnt           1.000000\n",
       "registered    0.972151\n",
       "casual        0.694564\n",
       "temp          0.404772\n",
       "atemp         0.400929\n",
       "hr            0.394071\n",
       "hum           0.322911\n",
       "instant       0.278379\n",
       "yr            0.250495\n",
       "season        0.178056\n",
       "weathersit    0.142426\n",
       "mnth          0.120638\n",
       "windspeed     0.093234\n",
       "holiday       0.030927\n",
       "workingday    0.030284\n",
       "weekday       0.026900\n",
       "Name: cnt, dtype: float64"
      ]
     },
     "execution_count": 5,
     "metadata": {},
     "output_type": "execute_result"
    }
   ],
   "source": [
    "bike_rentals.corr()['cnt'].abs().sort_values(ascending = False)"
   ]
  },
  {
   "cell_type": "code",
   "execution_count": 6,
   "metadata": {
    "collapsed": false,
    "jupyter": {
     "outputs_hidden": false
    }
   },
   "outputs": [
    {
     "data": {
      "image/png": "[encoded data removed]",
      "text/plain": [
       "<Figure size 432x288 with 1 Axes>"
      ]
     },
     "metadata": {
      "needs_background": "light"
     },
     "output_type": "display_data"
    }
   ],
   "source": [
    "plt.hist(bike_rentals['cnt'],bins = 30)\n",
    "plt.xlabel('Aluguéis em 1h')\n",
    "plt.ylabel('Quantidade de datapoints')\n",
    "plt.title(\"Histograma da quantidade de alugueis ('cnt')\")\n",
    "plt.vlines(bike_rentals['cnt'].mean(),0,4000,color = 'black',label = \"média\")\n",
    "plt.legend()\n",
    "plt.show()"
   ]
  },
  {
   "cell_type": "markdown",
   "metadata": {},
   "source": [
    "* O histograma e análise dos quartis acima mostram que temos uma distribuição na quantidade de viagens muito assimétrica, com muitos pontos com poucas ou nenhuma viagem, e poucos pontos com muitas viagens.\n",
    "\n",
    "\n",
    "* A média é de 189,46 viagens por hora\n",
    "\n",
    "* Vemos que as colunas que possuem maior correlação com a quantidade de viagens são as colunas 'registered' e 'casual', seguidas pela temperatura e pela hora e umidade. As colunas 'registered' e 'casual' na verdade são o número de viagens de usuários registrados e de usuários que estão usando o serviço sem um registro, então faz sentido que elas tenham uma alta correlação (somadas as duas correspondem ao valor da coluna 'cnt')."
   ]
  },
  {
   "cell_type": "markdown",
   "metadata": {},
   "source": [
    "## 4. Criando uma nova feature de faixa de horários (manhã, tarde, noite e madrugada):\n",
    "\n",
    "* O nosso dataset possui uma coluna para as horas (coluna 'hr'). Ao utilizar essa coluna, nosso modelo vai interpretá-la como um valor numérico, sem distinguir os períodos de manhã, tarde, noite e madrugada.\n",
    "\n",
    "\n",
    "* Com o intuito de fazer essa divisão, vamos criar uma nova coluna, 'time_label', com 4 faixas de hora."
   ]
  },
  {
   "cell_type": "code",
   "execution_count": 7,
   "metadata": {},
   "outputs": [],
   "source": [
    "bike_rentals['time_label'] =pd.cut(bike_rentals['hr'],4,labels = ['madrugada','manhã','tarde','noite'])"
   ]
  },
  {
   "cell_type": "code",
   "execution_count": 8,
   "metadata": {},
   "outputs": [
    {
     "data": {
      "text/html": [
       "<div>\n",
       "<style scoped>\n",
       "    .dataframe tbody tr th:only-of-type {\n",
       "        vertical-align: middle;\n",
       "    }\n",
       "\n",
       "    .dataframe tbody tr th {\n",
       "        vertical-align: top;\n",
       "    }\n",
       "\n",
       "    .dataframe thead th {\n",
       "        text-align: right;\n",
       "    }\n",
       "</style>\n",
       "<table border=\"1\" class=\"dataframe\">\n",
       "  <thead>\n",
       "    <tr style=\"text-align: right;\">\n",
       "      <th></th>\n",
       "      <th>instant</th>\n",
       "      <th>dteday</th>\n",
       "      <th>season</th>\n",
       "      <th>yr</th>\n",
       "      <th>mnth</th>\n",
       "      <th>hr</th>\n",
       "      <th>holiday</th>\n",
       "      <th>weekday</th>\n",
       "      <th>workingday</th>\n",
       "      <th>weathersit</th>\n",
       "      <th>temp</th>\n",
       "      <th>atemp</th>\n",
       "      <th>hum</th>\n",
       "      <th>windspeed</th>\n",
       "      <th>casual</th>\n",
       "      <th>registered</th>\n",
       "      <th>cnt</th>\n",
       "      <th>time_label</th>\n",
       "    </tr>\n",
       "  </thead>\n",
       "  <tbody>\n",
       "    <tr>\n",
       "      <th>12247</th>\n",
       "      <td>12248</td>\n",
       "      <td>2012-05-30</td>\n",
       "      <td>2</td>\n",
       "      <td>1</td>\n",
       "      <td>5</td>\n",
       "      <td>12</td>\n",
       "      <td>0</td>\n",
       "      <td>3</td>\n",
       "      <td>1</td>\n",
       "      <td>1</td>\n",
       "      <td>0.70</td>\n",
       "      <td>0.6515</td>\n",
       "      <td>0.54</td>\n",
       "      <td>0.0000</td>\n",
       "      <td>33</td>\n",
       "      <td>220</td>\n",
       "      <td>253</td>\n",
       "      <td>tarde</td>\n",
       "    </tr>\n",
       "    <tr>\n",
       "      <th>898</th>\n",
       "      <td>899</td>\n",
       "      <td>2011-02-09</td>\n",
       "      <td>1</td>\n",
       "      <td>0</td>\n",
       "      <td>2</td>\n",
       "      <td>22</td>\n",
       "      <td>0</td>\n",
       "      <td>3</td>\n",
       "      <td>1</td>\n",
       "      <td>3</td>\n",
       "      <td>0.16</td>\n",
       "      <td>0.1667</td>\n",
       "      <td>0.80</td>\n",
       "      <td>0.1642</td>\n",
       "      <td>4</td>\n",
       "      <td>42</td>\n",
       "      <td>46</td>\n",
       "      <td>noite</td>\n",
       "    </tr>\n",
       "    <tr>\n",
       "      <th>12656</th>\n",
       "      <td>12657</td>\n",
       "      <td>2012-06-16</td>\n",
       "      <td>2</td>\n",
       "      <td>1</td>\n",
       "      <td>6</td>\n",
       "      <td>13</td>\n",
       "      <td>0</td>\n",
       "      <td>6</td>\n",
       "      <td>0</td>\n",
       "      <td>1</td>\n",
       "      <td>0.72</td>\n",
       "      <td>0.6515</td>\n",
       "      <td>0.34</td>\n",
       "      <td>0.1642</td>\n",
       "      <td>293</td>\n",
       "      <td>324</td>\n",
       "      <td>617</td>\n",
       "      <td>tarde</td>\n",
       "    </tr>\n",
       "  </tbody>\n",
       "</table>\n",
       "</div>"
      ],
      "text/plain": [
       "       instant      dteday  season  yr  mnth  hr  holiday  weekday  \\\n",
       "12247    12248  2012-05-30       2   1     5  12        0        3   \n",
       "898        899  2011-02-09       1   0     2  22        0        3   \n",
       "12656    12657  2012-06-16       2   1     6  13        0        6   \n",
       "\n",
       "       workingday  weathersit  temp   atemp   hum  windspeed  casual  \\\n",
       "12247           1           1  0.70  0.6515  0.54     0.0000      33   \n",
       "898             1           3  0.16  0.1667  0.80     0.1642       4   \n",
       "12656           0           1  0.72  0.6515  0.34     0.1642     293   \n",
       "\n",
       "       registered  cnt time_label  \n",
       "12247         220  253      tarde  \n",
       "898            42   46      noite  \n",
       "12656         324  617      tarde  "
      ]
     },
     "execution_count": 8,
     "metadata": {},
     "output_type": "execute_result"
    }
   ],
   "source": [
    "bike_rentals.sample(3)"
   ]
  },
  {
   "cell_type": "markdown",
   "metadata": {},
   "source": [
    "## 5. Escolhendo e transformando as features"
   ]
  },
  {
   "cell_type": "markdown",
   "metadata": {},
   "source": [
    "* Primeiramente ao escolher as features do nosso modelo, vemos que devemos desconsiderar as seguinte colunas:\n",
    "  \n",
    "     * Coluna **instant** pois é apenas um ID, e não uma característica do data point\n",
    "     * Coluna **cnt** pois é justamente o valor que queremos prever ('target')\n",
    "     * Colunas **registered** e **casual**, pois somadas as duas resultam na coluna 'cnt'\n",
    "     * Coluna **dteday** pois ela \"vazaria\" informação sobre o dia que a bike foi alugada\n",
    "     * Coluna **atemp** pois ela contém a mesma informação que a coluna **temp**"
   ]
  },
  {
   "cell_type": "code",
   "execution_count": 9,
   "metadata": {},
   "outputs": [],
   "source": [
    "bike_rentals.drop(['instant','dteday','registered','casual','atemp'], axis = 1, inplace = True)"
   ]
  },
  {
   "cell_type": "code",
   "execution_count": 10,
   "metadata": {},
   "outputs": [
    {
     "data": {
      "text/plain": [
       "season           int64\n",
       "yr               int64\n",
       "mnth             int64\n",
       "hr               int64\n",
       "holiday          int64\n",
       "weekday          int64\n",
       "workingday       int64\n",
       "weathersit       int64\n",
       "temp           float64\n",
       "hum            float64\n",
       "windspeed      float64\n",
       "cnt              int64\n",
       "time_label    category\n",
       "dtype: object"
      ]
     },
     "execution_count": 10,
     "metadata": {},
     "output_type": "execute_result"
    }
   ],
   "source": [
    "bike_rentals.dtypes"
   ]
  },
  {
   "cell_type": "code",
   "execution_count": 11,
   "metadata": {},
   "outputs": [
    {
     "data": {
      "text/html": [
       "<div>\n",
       "<style scoped>\n",
       "    .dataframe tbody tr th:only-of-type {\n",
       "        vertical-align: middle;\n",
       "    }\n",
       "\n",
       "    .dataframe tbody tr th {\n",
       "        vertical-align: top;\n",
       "    }\n",
       "\n",
       "    .dataframe thead th {\n",
       "        text-align: right;\n",
       "    }\n",
       "</style>\n",
       "<table border=\"1\" class=\"dataframe\">\n",
       "  <thead>\n",
       "    <tr style=\"text-align: right;\">\n",
       "      <th></th>\n",
       "      <th>season</th>\n",
       "      <th>yr</th>\n",
       "      <th>mnth</th>\n",
       "      <th>hr</th>\n",
       "      <th>holiday</th>\n",
       "      <th>weekday</th>\n",
       "      <th>workingday</th>\n",
       "      <th>weathersit</th>\n",
       "      <th>temp</th>\n",
       "      <th>hum</th>\n",
       "      <th>windspeed</th>\n",
       "      <th>cnt</th>\n",
       "      <th>time_label</th>\n",
       "    </tr>\n",
       "  </thead>\n",
       "  <tbody>\n",
       "    <tr>\n",
       "      <th>9781</th>\n",
       "      <td>1</td>\n",
       "      <td>1</td>\n",
       "      <td>2</td>\n",
       "      <td>12</td>\n",
       "      <td>0</td>\n",
       "      <td>5</td>\n",
       "      <td>1</td>\n",
       "      <td>1</td>\n",
       "      <td>0.38</td>\n",
       "      <td>0.46</td>\n",
       "      <td>0.3881</td>\n",
       "      <td>198</td>\n",
       "      <td>tarde</td>\n",
       "    </tr>\n",
       "    <tr>\n",
       "      <th>3776</th>\n",
       "      <td>2</td>\n",
       "      <td>0</td>\n",
       "      <td>6</td>\n",
       "      <td>6</td>\n",
       "      <td>0</td>\n",
       "      <td>6</td>\n",
       "      <td>0</td>\n",
       "      <td>1</td>\n",
       "      <td>0.70</td>\n",
       "      <td>0.61</td>\n",
       "      <td>0.1343</td>\n",
       "      <td>40</td>\n",
       "      <td>manhã</td>\n",
       "    </tr>\n",
       "    <tr>\n",
       "      <th>1168</th>\n",
       "      <td>1</td>\n",
       "      <td>0</td>\n",
       "      <td>2</td>\n",
       "      <td>11</td>\n",
       "      <td>1</td>\n",
       "      <td>1</td>\n",
       "      <td>0</td>\n",
       "      <td>2</td>\n",
       "      <td>0.32</td>\n",
       "      <td>0.57</td>\n",
       "      <td>0.1045</td>\n",
       "      <td>90</td>\n",
       "      <td>manhã</td>\n",
       "    </tr>\n",
       "  </tbody>\n",
       "</table>\n",
       "</div>"
      ],
      "text/plain": [
       "      season  yr  mnth  hr  holiday  weekday  workingday  weathersit  temp  \\\n",
       "9781       1   1     2  12        0        5           1           1  0.38   \n",
       "3776       2   0     6   6        0        6           0           1  0.70   \n",
       "1168       1   0     2  11        1        1           0           2  0.32   \n",
       "\n",
       "       hum  windspeed  cnt time_label  \n",
       "9781  0.46     0.3881  198      tarde  \n",
       "3776  0.61     0.1343   40      manhã  \n",
       "1168  0.57     0.1045   90      manhã  "
      ]
     },
     "execution_count": 11,
     "metadata": {},
     "output_type": "execute_result"
    }
   ],
   "source": [
    "bike_rentals.sample(3)"
   ]
  },
  {
   "cell_type": "markdown",
   "metadata": {},
   "source": [
    "* Vemos que as colunas **season**, **mnth**, **hr**, **weekday**, **weathersit** e **time_label**, devem ser consideradas como categóricas, e não como colunas numéricas, já que não existe uma relação de > ou < entre os diferentes números de cada coluna.\n",
    "\n",
    "\n",
    "* Dessa forma, vamos tranformá-las em colunas categóricas e aplicar o processo de \"dummy coding\"."
   ]
  },
  {
   "cell_type": "code",
   "execution_count": 12,
   "metadata": {},
   "outputs": [
    {
     "data": {
      "text/html": [
       "<div>\n",
       "<style scoped>\n",
       "    .dataframe tbody tr th:only-of-type {\n",
       "        vertical-align: middle;\n",
       "    }\n",
       "\n",
       "    .dataframe tbody tr th {\n",
       "        vertical-align: top;\n",
       "    }\n",
       "\n",
       "    .dataframe thead th {\n",
       "        text-align: right;\n",
       "    }\n",
       "</style>\n",
       "<table border=\"1\" class=\"dataframe\">\n",
       "  <thead>\n",
       "    <tr style=\"text-align: right;\">\n",
       "      <th></th>\n",
       "      <th>yr</th>\n",
       "      <th>holiday</th>\n",
       "      <th>workingday</th>\n",
       "      <th>temp</th>\n",
       "      <th>hum</th>\n",
       "      <th>windspeed</th>\n",
       "      <th>cnt</th>\n",
       "      <th>season_1</th>\n",
       "      <th>season_2</th>\n",
       "      <th>season_3</th>\n",
       "      <th>season_4</th>\n",
       "      <th>mnth_1</th>\n",
       "      <th>mnth_2</th>\n",
       "      <th>mnth_3</th>\n",
       "      <th>mnth_4</th>\n",
       "      <th>mnth_5</th>\n",
       "      <th>mnth_6</th>\n",
       "      <th>mnth_7</th>\n",
       "      <th>mnth_8</th>\n",
       "      <th>mnth_9</th>\n",
       "      <th>mnth_10</th>\n",
       "      <th>mnth_11</th>\n",
       "      <th>mnth_12</th>\n",
       "      <th>hr_0</th>\n",
       "      <th>hr_1</th>\n",
       "      <th>hr_2</th>\n",
       "      <th>hr_3</th>\n",
       "      <th>hr_4</th>\n",
       "      <th>hr_5</th>\n",
       "      <th>hr_6</th>\n",
       "      <th>hr_7</th>\n",
       "      <th>hr_8</th>\n",
       "      <th>hr_9</th>\n",
       "      <th>hr_10</th>\n",
       "      <th>hr_11</th>\n",
       "      <th>hr_12</th>\n",
       "      <th>hr_13</th>\n",
       "      <th>hr_14</th>\n",
       "      <th>hr_15</th>\n",
       "      <th>hr_16</th>\n",
       "      <th>hr_17</th>\n",
       "      <th>hr_18</th>\n",
       "      <th>hr_19</th>\n",
       "      <th>hr_20</th>\n",
       "      <th>hr_21</th>\n",
       "      <th>hr_22</th>\n",
       "      <th>hr_23</th>\n",
       "      <th>weekday_0</th>\n",
       "      <th>weekday_1</th>\n",
       "      <th>weekday_2</th>\n",
       "      <th>weekday_3</th>\n",
       "      <th>weekday_4</th>\n",
       "      <th>weekday_5</th>\n",
       "      <th>weekday_6</th>\n",
       "      <th>weathersit_1</th>\n",
       "      <th>weathersit_2</th>\n",
       "      <th>weathersit_3</th>\n",
       "      <th>weathersit_4</th>\n",
       "      <th>time_label_madrugada</th>\n",
       "      <th>time_label_manhã</th>\n",
       "      <th>time_label_tarde</th>\n",
       "      <th>time_label_noite</th>\n",
       "    </tr>\n",
       "  </thead>\n",
       "  <tbody>\n",
       "    <tr>\n",
       "      <th>17083</th>\n",
       "      <td>1</td>\n",
       "      <td>0</td>\n",
       "      <td>1</td>\n",
       "      <td>0.42</td>\n",
       "      <td>0.50</td>\n",
       "      <td>0.1940</td>\n",
       "      <td>218</td>\n",
       "      <td>0</td>\n",
       "      <td>0</td>\n",
       "      <td>0</td>\n",
       "      <td>1</td>\n",
       "      <td>0</td>\n",
       "      <td>0</td>\n",
       "      <td>0</td>\n",
       "      <td>0</td>\n",
       "      <td>0</td>\n",
       "      <td>0</td>\n",
       "      <td>0</td>\n",
       "      <td>0</td>\n",
       "      <td>0</td>\n",
       "      <td>0</td>\n",
       "      <td>0</td>\n",
       "      <td>1</td>\n",
       "      <td>0</td>\n",
       "      <td>0</td>\n",
       "      <td>0</td>\n",
       "      <td>0</td>\n",
       "      <td>0</td>\n",
       "      <td>0</td>\n",
       "      <td>0</td>\n",
       "      <td>0</td>\n",
       "      <td>0</td>\n",
       "      <td>0</td>\n",
       "      <td>0</td>\n",
       "      <td>0</td>\n",
       "      <td>0</td>\n",
       "      <td>0</td>\n",
       "      <td>1</td>\n",
       "      <td>0</td>\n",
       "      <td>0</td>\n",
       "      <td>0</td>\n",
       "      <td>0</td>\n",
       "      <td>0</td>\n",
       "      <td>0</td>\n",
       "      <td>0</td>\n",
       "      <td>0</td>\n",
       "      <td>0</td>\n",
       "      <td>0</td>\n",
       "      <td>0</td>\n",
       "      <td>0</td>\n",
       "      <td>1</td>\n",
       "      <td>0</td>\n",
       "      <td>0</td>\n",
       "      <td>0</td>\n",
       "      <td>1</td>\n",
       "      <td>0</td>\n",
       "      <td>0</td>\n",
       "      <td>0</td>\n",
       "      <td>0</td>\n",
       "      <td>0</td>\n",
       "      <td>1</td>\n",
       "      <td>0</td>\n",
       "    </tr>\n",
       "    <tr>\n",
       "      <th>11204</th>\n",
       "      <td>1</td>\n",
       "      <td>0</td>\n",
       "      <td>1</td>\n",
       "      <td>0.64</td>\n",
       "      <td>0.57</td>\n",
       "      <td>0.1642</td>\n",
       "      <td>11</td>\n",
       "      <td>0</td>\n",
       "      <td>1</td>\n",
       "      <td>0</td>\n",
       "      <td>0</td>\n",
       "      <td>0</td>\n",
       "      <td>0</td>\n",
       "      <td>0</td>\n",
       "      <td>1</td>\n",
       "      <td>0</td>\n",
       "      <td>0</td>\n",
       "      <td>0</td>\n",
       "      <td>0</td>\n",
       "      <td>0</td>\n",
       "      <td>0</td>\n",
       "      <td>0</td>\n",
       "      <td>0</td>\n",
       "      <td>0</td>\n",
       "      <td>1</td>\n",
       "      <td>0</td>\n",
       "      <td>0</td>\n",
       "      <td>0</td>\n",
       "      <td>0</td>\n",
       "      <td>0</td>\n",
       "      <td>0</td>\n",
       "      <td>0</td>\n",
       "      <td>0</td>\n",
       "      <td>0</td>\n",
       "      <td>0</td>\n",
       "      <td>0</td>\n",
       "      <td>0</td>\n",
       "      <td>0</td>\n",
       "      <td>0</td>\n",
       "      <td>0</td>\n",
       "      <td>0</td>\n",
       "      <td>0</td>\n",
       "      <td>0</td>\n",
       "      <td>0</td>\n",
       "      <td>0</td>\n",
       "      <td>0</td>\n",
       "      <td>0</td>\n",
       "      <td>0</td>\n",
       "      <td>0</td>\n",
       "      <td>1</td>\n",
       "      <td>0</td>\n",
       "      <td>0</td>\n",
       "      <td>0</td>\n",
       "      <td>0</td>\n",
       "      <td>1</td>\n",
       "      <td>0</td>\n",
       "      <td>0</td>\n",
       "      <td>0</td>\n",
       "      <td>1</td>\n",
       "      <td>0</td>\n",
       "      <td>0</td>\n",
       "      <td>0</td>\n",
       "    </tr>\n",
       "    <tr>\n",
       "      <th>11517</th>\n",
       "      <td>1</td>\n",
       "      <td>0</td>\n",
       "      <td>1</td>\n",
       "      <td>0.42</td>\n",
       "      <td>0.71</td>\n",
       "      <td>0.1343</td>\n",
       "      <td>8</td>\n",
       "      <td>0</td>\n",
       "      <td>1</td>\n",
       "      <td>0</td>\n",
       "      <td>0</td>\n",
       "      <td>0</td>\n",
       "      <td>0</td>\n",
       "      <td>0</td>\n",
       "      <td>1</td>\n",
       "      <td>0</td>\n",
       "      <td>0</td>\n",
       "      <td>0</td>\n",
       "      <td>0</td>\n",
       "      <td>0</td>\n",
       "      <td>0</td>\n",
       "      <td>0</td>\n",
       "      <td>0</td>\n",
       "      <td>0</td>\n",
       "      <td>0</td>\n",
       "      <td>1</td>\n",
       "      <td>0</td>\n",
       "      <td>0</td>\n",
       "      <td>0</td>\n",
       "      <td>0</td>\n",
       "      <td>0</td>\n",
       "      <td>0</td>\n",
       "      <td>0</td>\n",
       "      <td>0</td>\n",
       "      <td>0</td>\n",
       "      <td>0</td>\n",
       "      <td>0</td>\n",
       "      <td>0</td>\n",
       "      <td>0</td>\n",
       "      <td>0</td>\n",
       "      <td>0</td>\n",
       "      <td>0</td>\n",
       "      <td>0</td>\n",
       "      <td>0</td>\n",
       "      <td>0</td>\n",
       "      <td>0</td>\n",
       "      <td>0</td>\n",
       "      <td>0</td>\n",
       "      <td>1</td>\n",
       "      <td>0</td>\n",
       "      <td>0</td>\n",
       "      <td>0</td>\n",
       "      <td>0</td>\n",
       "      <td>0</td>\n",
       "      <td>1</td>\n",
       "      <td>0</td>\n",
       "      <td>0</td>\n",
       "      <td>0</td>\n",
       "      <td>1</td>\n",
       "      <td>0</td>\n",
       "      <td>0</td>\n",
       "      <td>0</td>\n",
       "    </tr>\n",
       "    <tr>\n",
       "      <th>5734</th>\n",
       "      <td>0</td>\n",
       "      <td>0</td>\n",
       "      <td>1</td>\n",
       "      <td>0.64</td>\n",
       "      <td>0.69</td>\n",
       "      <td>0.1045</td>\n",
       "      <td>207</td>\n",
       "      <td>0</td>\n",
       "      <td>0</td>\n",
       "      <td>1</td>\n",
       "      <td>0</td>\n",
       "      <td>0</td>\n",
       "      <td>0</td>\n",
       "      <td>0</td>\n",
       "      <td>0</td>\n",
       "      <td>0</td>\n",
       "      <td>0</td>\n",
       "      <td>0</td>\n",
       "      <td>0</td>\n",
       "      <td>1</td>\n",
       "      <td>0</td>\n",
       "      <td>0</td>\n",
       "      <td>0</td>\n",
       "      <td>0</td>\n",
       "      <td>0</td>\n",
       "      <td>0</td>\n",
       "      <td>0</td>\n",
       "      <td>0</td>\n",
       "      <td>0</td>\n",
       "      <td>0</td>\n",
       "      <td>0</td>\n",
       "      <td>0</td>\n",
       "      <td>1</td>\n",
       "      <td>0</td>\n",
       "      <td>0</td>\n",
       "      <td>0</td>\n",
       "      <td>0</td>\n",
       "      <td>0</td>\n",
       "      <td>0</td>\n",
       "      <td>0</td>\n",
       "      <td>0</td>\n",
       "      <td>0</td>\n",
       "      <td>0</td>\n",
       "      <td>0</td>\n",
       "      <td>0</td>\n",
       "      <td>0</td>\n",
       "      <td>0</td>\n",
       "      <td>0</td>\n",
       "      <td>0</td>\n",
       "      <td>0</td>\n",
       "      <td>0</td>\n",
       "      <td>1</td>\n",
       "      <td>0</td>\n",
       "      <td>0</td>\n",
       "      <td>1</td>\n",
       "      <td>0</td>\n",
       "      <td>0</td>\n",
       "      <td>0</td>\n",
       "      <td>0</td>\n",
       "      <td>1</td>\n",
       "      <td>0</td>\n",
       "      <td>0</td>\n",
       "    </tr>\n",
       "    <tr>\n",
       "      <th>2140</th>\n",
       "      <td>0</td>\n",
       "      <td>0</td>\n",
       "      <td>1</td>\n",
       "      <td>0.40</td>\n",
       "      <td>0.56</td>\n",
       "      <td>0.3582</td>\n",
       "      <td>11</td>\n",
       "      <td>0</td>\n",
       "      <td>1</td>\n",
       "      <td>0</td>\n",
       "      <td>0</td>\n",
       "      <td>0</td>\n",
       "      <td>0</td>\n",
       "      <td>0</td>\n",
       "      <td>1</td>\n",
       "      <td>0</td>\n",
       "      <td>0</td>\n",
       "      <td>0</td>\n",
       "      <td>0</td>\n",
       "      <td>0</td>\n",
       "      <td>0</td>\n",
       "      <td>0</td>\n",
       "      <td>0</td>\n",
       "      <td>0</td>\n",
       "      <td>1</td>\n",
       "      <td>0</td>\n",
       "      <td>0</td>\n",
       "      <td>0</td>\n",
       "      <td>0</td>\n",
       "      <td>0</td>\n",
       "      <td>0</td>\n",
       "      <td>0</td>\n",
       "      <td>0</td>\n",
       "      <td>0</td>\n",
       "      <td>0</td>\n",
       "      <td>0</td>\n",
       "      <td>0</td>\n",
       "      <td>0</td>\n",
       "      <td>0</td>\n",
       "      <td>0</td>\n",
       "      <td>0</td>\n",
       "      <td>0</td>\n",
       "      <td>0</td>\n",
       "      <td>0</td>\n",
       "      <td>0</td>\n",
       "      <td>0</td>\n",
       "      <td>0</td>\n",
       "      <td>0</td>\n",
       "      <td>1</td>\n",
       "      <td>0</td>\n",
       "      <td>0</td>\n",
       "      <td>0</td>\n",
       "      <td>0</td>\n",
       "      <td>0</td>\n",
       "      <td>1</td>\n",
       "      <td>0</td>\n",
       "      <td>0</td>\n",
       "      <td>0</td>\n",
       "      <td>1</td>\n",
       "      <td>0</td>\n",
       "      <td>0</td>\n",
       "      <td>0</td>\n",
       "    </tr>\n",
       "  </tbody>\n",
       "</table>\n",
       "</div>"
      ],
      "text/plain": [
       "       yr  holiday  workingday  temp   hum  windspeed  cnt  season_1  \\\n",
       "17083   1        0           1  0.42  0.50     0.1940  218         0   \n",
       "11204   1        0           1  0.64  0.57     0.1642   11         0   \n",
       "11517   1        0           1  0.42  0.71     0.1343    8         0   \n",
       "5734    0        0           1  0.64  0.69     0.1045  207         0   \n",
       "2140    0        0           1  0.40  0.56     0.3582   11         0   \n",
       "\n",
       "       season_2  season_3  season_4  mnth_1  mnth_2  mnth_3  mnth_4  mnth_5  \\\n",
       "17083         0         0         1       0       0       0       0       0   \n",
       "11204         1         0         0       0       0       0       1       0   \n",
       "11517         1         0         0       0       0       0       1       0   \n",
       "5734          0         1         0       0       0       0       0       0   \n",
       "2140          1         0         0       0       0       0       1       0   \n",
       "\n",
       "       mnth_6  mnth_7  mnth_8  mnth_9  mnth_10  mnth_11  mnth_12  hr_0  hr_1  \\\n",
       "17083       0       0       0       0        0        0        1     0     0   \n",
       "11204       0       0       0       0        0        0        0     0     1   \n",
       "11517       0       0       0       0        0        0        0     0     0   \n",
       "5734        0       0       0       1        0        0        0     0     0   \n",
       "2140        0       0       0       0        0        0        0     0     1   \n",
       "\n",
       "       hr_2  hr_3  hr_4  hr_5  hr_6  hr_7  hr_8  hr_9  hr_10  hr_11  hr_12  \\\n",
       "17083     0     0     0     0     0     0     0     0      0      0      0   \n",
       "11204     0     0     0     0     0     0     0     0      0      0      0   \n",
       "11517     1     0     0     0     0     0     0     0      0      0      0   \n",
       "5734      0     0     0     0     0     0     0     1      0      0      0   \n",
       "2140      0     0     0     0     0     0     0     0      0      0      0   \n",
       "\n",
       "       hr_13  hr_14  hr_15  hr_16  hr_17  hr_18  hr_19  hr_20  hr_21  hr_22  \\\n",
       "17083      0      1      0      0      0      0      0      0      0      0   \n",
       "11204      0      0      0      0      0      0      0      0      0      0   \n",
       "11517      0      0      0      0      0      0      0      0      0      0   \n",
       "5734       0      0      0      0      0      0      0      0      0      0   \n",
       "2140       0      0      0      0      0      0      0      0      0      0   \n",
       "\n",
       "       hr_23  weekday_0  weekday_1  weekday_2  weekday_3  weekday_4  \\\n",
       "17083      0          0          0          0          1          0   \n",
       "11204      0          0          0          1          0          0   \n",
       "11517      0          0          1          0          0          0   \n",
       "5734       0          0          0          0          0          1   \n",
       "2140       0          0          1          0          0          0   \n",
       "\n",
       "       weekday_5  weekday_6  weathersit_1  weathersit_2  weathersit_3  \\\n",
       "17083          0          0             1             0             0   \n",
       "11204          0          0             1             0             0   \n",
       "11517          0          0             1             0             0   \n",
       "5734           0          0             1             0             0   \n",
       "2140           0          0             1             0             0   \n",
       "\n",
       "       weathersit_4  time_label_madrugada  time_label_manhã  time_label_tarde  \\\n",
       "17083             0                     0                 0                 1   \n",
       "11204             0                     1                 0                 0   \n",
       "11517             0                     1                 0                 0   \n",
       "5734              0                     0                 1                 0   \n",
       "2140              0                     1                 0                 0   \n",
       "\n",
       "       time_label_noite  \n",
       "17083                 0  \n",
       "11204                 0  \n",
       "11517                 0  \n",
       "5734                  0  \n",
       "2140                  0  "
      ]
     },
     "execution_count": 12,
     "metadata": {},
     "output_type": "execute_result"
    }
   ],
   "source": [
    "cat_cols = ['season','mnth','hr','weekday','weathersit','time_label']\n",
    "\n",
    "for col in cat_cols: \n",
    "    bike_rentals[col] = bike_rentals[col].astype('category')\n",
    "\n",
    "dummies = pd.get_dummies(bike_rentals[cat_cols])\n",
    "bike_rentals = pd.concat([bike_rentals, dummies], axis = 1)\n",
    "bike_rentals.drop(cat_cols, axis = 1, inplace = True)\n",
    "bike_rentals.sample(5)"
   ]
  },
  {
   "cell_type": "markdown",
   "metadata": {},
   "source": [
    "## 6. Dividindo o dataset em um subset de treino um de validação e um de testes\n",
    "\n",
    "* O dataset de treino (72% dos dados) será usado apra treinar o modelo\n",
    "* O dataset de validação (18% dos dados) será usado para escolher o melhor tipo de modelo\n",
    "* O dataset de testes (10% dos dados) será usado somente no final, após definido o melhor modelo (para evitar que façamos um hyperparameter tunning muito \"sob medida\" para os dados de teste. \n"
   ]
  },
  {
   "cell_type": "code",
   "execution_count": 13,
   "metadata": {
    "collapsed": false,
    "jupyter": {
     "outputs_hidden": false
    }
   },
   "outputs": [],
   "source": [
    "train_validate, test = train_test_split(bike_rentals,test_size=0.1, random_state = 42)"
   ]
  },
  {
   "cell_type": "code",
   "execution_count": 14,
   "metadata": {},
   "outputs": [],
   "source": [
    "train, validate = train_test_split(train_validate,test_size=0.2, random_state = 42)"
   ]
  },
  {
   "cell_type": "code",
   "execution_count": 15,
   "metadata": {},
   "outputs": [
    {
     "data": {
      "text/plain": [
       "(12512, 62)"
      ]
     },
     "execution_count": 15,
     "metadata": {},
     "output_type": "execute_result"
    }
   ],
   "source": [
    "train.shape"
   ]
  },
  {
   "cell_type": "code",
   "execution_count": 16,
   "metadata": {},
   "outputs": [
    {
     "data": {
      "text/plain": [
       "(3129, 62)"
      ]
     },
     "execution_count": 16,
     "metadata": {},
     "output_type": "execute_result"
    }
   ],
   "source": [
    "validate.shape"
   ]
  },
  {
   "cell_type": "code",
   "execution_count": 17,
   "metadata": {},
   "outputs": [
    {
     "data": {
      "text/plain": [
       "(1738, 62)"
      ]
     },
     "execution_count": 17,
     "metadata": {},
     "output_type": "execute_result"
    }
   ],
   "source": [
    "test.shape"
   ]
  },
  {
   "cell_type": "code",
   "execution_count": 18,
   "metadata": {},
   "outputs": [],
   "source": [
    "train_validate_X = train_validate.drop(['cnt'], axis = 1)\n",
    "train_validate_y = train_validate[['cnt']]\n",
    "\n",
    "train_X = train.drop(['cnt'], axis = 1)\n",
    "train_y = train[['cnt']]\n",
    "\n",
    "validate_X = validate.drop(['cnt'], axis = 1)\n",
    "validate_y = validate[['cnt']]\n",
    "\n",
    "test_X = test.drop(['cnt'], axis = 1)\n",
    "test_y = test[['cnt']]"
   ]
  },
  {
   "cell_type": "markdown",
   "metadata": {},
   "source": [
    "## 7. Aplicando um modelo de Regressão Linear\n",
    "\n",
    "* Vamos começar testando um modelo de regressão linear.\n",
    "\n",
    "* Vamos usar o root mean squared error (RMSE) como métrica para avaliar os modelos. O RMSE é uma métrica utilizada para valores contínuos, que é o nosso caso. A vantagem do RMSE em relação ao MSE (sem a raiz quadrada) é o fato de que o RMSE retorna um valor de erro na mesma unidade que estamos prevendo (enquanto o MSE retorna a unidade^2).\n",
    " "
   ]
  },
  {
   "cell_type": "code",
   "execution_count": 19,
   "metadata": {
    "collapsed": false,
    "jupyter": {
     "outputs_hidden": false
    }
   },
   "outputs": [
    {
     "name": "stdout",
     "output_type": "stream",
     "text": [
      "Regressão Linear, VALIDATION SET, RMSE = 100.88\n",
      "Regressão Linear, VALIDATION SET, R2 = 0.69\n"
     ]
    }
   ],
   "source": [
    "lr_model = LinearRegression()\n",
    "lr_model.fit(train_X, train_y)\n",
    "\n",
    "lr_prediction = lr_model.predict(validate_X)\n",
    "lr_rmse = mean_squared_error(validate_y,lr_prediction)**0.5\n",
    "print(\"Regressão Linear, VALIDATION SET, RMSE = {}\".format(round(lr_rmse,2)))\n",
    "\n",
    "r2_validate = lr_model.score(validate_X,validate_y)\n",
    "print(\"Regressão Linear, VALIDATION SET, R2 = {}\".format(round(r2_validate,2)))\n"
   ]
  },
  {
   "cell_type": "code",
   "execution_count": 20,
   "metadata": {
    "collapsed": false,
    "jupyter": {
     "outputs_hidden": false
    }
   },
   "outputs": [
    {
     "name": "stdout",
     "output_type": "stream",
     "text": [
      "Regressão Linear, TRAIN SET, RMSE = 102.61\n",
      "Regressão Linear, TRAIN SET, R2 = 0.68\n"
     ]
    }
   ],
   "source": [
    "lr_predicticon_train = lr_model.predict(train_X)\n",
    "lr_rmse_train = mean_squared_error(train_y,lr_predicticon_train)**0.5\n",
    "print(\"Regressão Linear, TRAIN SET, RMSE = {}\".format(round(lr_rmse_train,2)))\n",
    "\n",
    "r2_train = lr_model.score(train_X,train_y)\n",
    "print(\"Regressão Linear, TRAIN SET, R2 = {}\".format(round(r2_train,2)))"
   ]
  },
  {
   "cell_type": "markdown",
   "metadata": {},
   "source": [
    "* O erro que encontramos é relativamente grande. Isso provavelmente se deve ao fato de termos poucos pontos com muito mais viagens (primeiras colunas no nosso histograma). Esses valores muito longe da média são mais \"penalisados\" no RMSE, já que essa métrica eleva o diferença entre o valor previsto e o real ao quadrado (o RMSE penalisa mais uma situação com \"poucos erros muito grandes\", do que uma situação com \"muitos erros muito pequenos\").\n",
    "\n",
    "\n",
    "* Testamos também o modelo no próprio train set e o resultado foi muito parecido. O que indica que não estamos overfitting. Na verdade, estamos underfitting, pois estamos usando um modelo que não reproduz bem as cartacterísicas do nosso set."
   ]
  },
  {
   "cell_type": "markdown",
   "metadata": {},
   "source": [
    "## 8. Aplicando Decision Trees"
   ]
  },
  {
   "cell_type": "markdown",
   "metadata": {},
   "source": [
    "* Vamos instanciar um modelo de regressãao com base em decision trees.\n",
    "\n",
    "\n",
    "* Vamos alterar o parâmetro min_sample_leaf para 5, isso permite que após um split um subset com 5 linhas com o mesmo label já possa ser considerado uma \"folha\" (leaf, que são as extremidades da árvore de decisão\"). Essa alteração, assim como a diminuição do parâmetro max_depth, contribui para reduzir a tendência a overfitting do modelo de decision tree."
   ]
  },
  {
   "cell_type": "code",
   "execution_count": 21,
   "metadata": {},
   "outputs": [
    {
     "name": "stdout",
     "output_type": "stream",
     "text": [
      "Decision Tree, VALIDATION SET, RMSE = 55.21\n",
      "Regressão Linear, VALIDATION SET, R2 = 0.91\n"
     ]
    }
   ],
   "source": [
    "dt_model = DecisionTreeRegressor(min_samples_leaf=5)\n",
    "dt_model.fit(train_X,train_y)\n",
    "dt_prediction = dt_model.predict(validate_X)\n",
    "dt_rmse = mean_squared_error(validate_y,dt_prediction)**0.5\n",
    "print(\"Decision Tree, VALIDATION SET, RMSE = {}\".format(round(dt_rmse,2)))\n",
    "\n",
    "r2_validate = dt_model.score(validate_X,validate_y)\n",
    "print(\"Regressão Linear, VALIDATION SET, R2 = {}\".format(round(r2_validate,2)))\n"
   ]
  },
  {
   "cell_type": "code",
   "execution_count": 22,
   "metadata": {},
   "outputs": [
    {
     "name": "stdout",
     "output_type": "stream",
     "text": [
      "Decision Tree, TRAIN SET, RMSE = 38.6\n",
      "Regressão Linear, TRAIN SET, R2 = 0.96\n"
     ]
    }
   ],
   "source": [
    "dt_prediction_train = dt_model.predict(train_X)\n",
    "dt_rmse_train = mean_squared_error(train_y,dt_prediction_train)**0.5\n",
    "print(\"Decision Tree, TRAIN SET, RMSE = {}\".format(round(dt_rmse_train,2)))\n",
    "\n",
    "r2_train = dt_model.score(train_X,train_y)\n",
    "print(\"Regressão Linear, TRAIN SET, R2 = {}\".format(round(r2_train,2)))"
   ]
  },
  {
   "cell_type": "markdown",
   "metadata": {},
   "source": [
    "* Com uma decision tree o erro reduziu bastante, se mostrando muito mais apropriado para prever a quantidade de bicicletas alugadas com base nas features que possuímos.\n",
    "\n",
    "\n",
    "* No entanto vemos que nosso modelo está \"overfitting\", já que o erro quando rodamos o modelo no próprio trainning set está muito menor.\n",
    "\n",
    "\n",
    "* Uma maneira de reduzir o overfitting, tendo como efeito colateral um aumento do erro total, seria alterando o parâmetro \"splitter\" para \"random\" ao invés de \"best\". Dessa forma, cada vez que o modelo precisa decidir qual feature usar para fazer a divisão da árvore, ele calcula o ganho de entropia dos novos subsets para uma sublista aleatória de features."
   ]
  },
  {
   "cell_type": "markdown",
   "metadata": {},
   "source": [
    "## 9. Desenhando a decision tree com uma árvore mais curta\n",
    "\n",
    "* Uma vantagem da utilização das decisions trees em relação ao random forest é o fato de que com decision trees, conseguimos desenhar a árvore de decisão utilizada pelo modelo e entender melhor como ele faz suas estimativas.\n",
    "\n",
    "* Abaixo vamos rodar um modelo de decision tree mais simples, com menos \"camadas\" (max_depth = 4) e plotar a árvore de decisão.\n",
    "\n",
    "* Estamos fazendo isso apenas como um exercício, pois como vemos acima, o modelo a dacision tree apresentou grande overfitting, não parecendo um bom modelo."
   ]
  },
  {
   "cell_type": "code",
   "execution_count": 23,
   "metadata": {
    "collapsed": false,
    "jupyter": {
     "outputs_hidden": false
    }
   },
   "outputs": [
    {
     "name": "stdout",
     "output_type": "stream",
     "text": [
      "Decision Tree, VALIDATE SET, RMSE = 118.87\n",
      "Regressão Linear, VALIDATE SET, R2 = 0.56\n"
     ]
    }
   ],
   "source": [
    "dt_model = DecisionTreeRegressor(min_samples_leaf=5,max_depth = 4)\n",
    "dt_model.fit(train_X, train_y)\n",
    "dt_prediction = dt_model.predict(validate_X)\n",
    "dt_rmse = mean_squared_error(validate_y,dt_prediction)**0.5\n",
    "print(\"Decision Tree, VALIDATE SET, RMSE = {}\".format(round(dt_rmse,2)))\n",
    "\n",
    "r2 = dt_model.score(validate_X,validate_y)\n",
    "print(\"Regressão Linear, VALIDATE SET, R2 = {}\".format(round(r2,2)))"
   ]
  },
  {
   "cell_type": "markdown",
   "metadata": {},
   "source": [
    "Como a árvore é menor, e logo menos complexa, notamos que ela está underfitting os dados."
   ]
  },
  {
   "cell_type": "code",
   "execution_count": 24,
   "metadata": {},
   "outputs": [
    {
     "data": {
      "image/png": "[encoded data removed]",
      "text/plain": [
       "<Figure size 2160x720 with 1 Axes>"
      ]
     },
     "metadata": {
      "needs_background": "light"
     },
     "output_type": "display_data"
    }
   ],
   "source": [
    "fig1 = plt.figure(figsize = (30,10))\n",
    "ax1 = fig1.add_subplot()\n",
    "\n",
    "_ = plot_tree(dt_model, ax = ax1, feature_names = validate_X.columns, fontsize = 11)"
   ]
  },
  {
   "cell_type": "markdown",
   "metadata": {},
   "source": [
    "## 10. Testando modelo AdaBoost com decision trees\n"
   ]
  },
  {
   "cell_type": "code",
   "execution_count": 25,
   "metadata": {},
   "outputs": [
    {
     "name": "stdout",
     "output_type": "stream",
     "text": [
      "AdaBoost, VALIDATION SET, RMSE = 96.39\n",
      "AdaBoost, VALIDATION SET, R2 = 0.71\n"
     ]
    }
   ],
   "source": [
    "base_estimator = DecisionTreeRegressor(min_samples_leaf=5, max_depth = 6)\n",
    "\n",
    "ada_model = AdaBoostRegressor(base_estimator = base_estimator, n_estimators = 80)\n",
    "ada_model.fit(train_X,train_y['cnt'])\n",
    "\n",
    "ada_prediction = ada_model.predict(validate_X)\n",
    "rf_rmse = mean_squared_error(validate_y,ada_prediction)**0.5\n",
    "print(\"AdaBoost, VALIDATION SET, RMSE = {}\".format(round(rf_rmse,2)))\n",
    "\n",
    "r2_validate = ada_model.score(validate_X,validate_y)\n",
    "print(\"AdaBoost, VALIDATION SET, R2 = {}\".format(round(r2_validate,2)))"
   ]
  },
  {
   "cell_type": "code",
   "execution_count": 26,
   "metadata": {},
   "outputs": [
    {
     "name": "stdout",
     "output_type": "stream",
     "text": [
      "AdaBoost, VALIDATION SET, RMSE = 93.87\n",
      "AdaBoost, VALIDATION SET, R2 = 0.74\n"
     ]
    }
   ],
   "source": [
    "ada_prediction = ada_model.predict(train_X)\n",
    "rf_rmse_train = mean_squared_error(train_y,ada_prediction)**0.5\n",
    "print(\"AdaBoost, VALIDATION SET, RMSE = {}\".format(round(rf_rmse_train,2)))\n",
    "\n",
    "r2_train = ada_model.score(train_X,train_y)\n",
    "print(\"AdaBoost, VALIDATION SET, R2 = {}\".format(round(r2_train,2)))"
   ]
  },
  {
   "cell_type": "markdown",
   "metadata": {},
   "source": [
    "Os resultados com adaboost foram piores do que com random forest. Como aparentemente o modelo está funcionando melhor com random forest"
   ]
  },
  {
   "cell_type": "markdown",
   "metadata": {},
   "source": [
    "## 11. Aplicando Random Forest\n",
    "\n",
    "* A random forest, além avaliar features aleatórias antes de cada split, também incorpora o conceito de \"bagging\", que consiste em utilizar diferentes subsets menores do dataset total, e depois calcular a média entre eles (parâmetro \"bootstrap\" do RanfomForest, que é True por default), por isso ela tem uma tendência menor a \"overfit\"."
   ]
  },
  {
   "cell_type": "code",
   "execution_count": 27,
   "metadata": {
    "collapsed": false,
    "jupyter": {
     "outputs_hidden": false
    }
   },
   "outputs": [
    {
     "name": "stdout",
     "output_type": "stream",
     "text": [
      "Random Forest, VALIDATION SET, RMSE = 54.3\n",
      "Random Forest, VALIDATION SET, R2 = 0.91\n"
     ]
    }
   ],
   "source": [
    "rf_model = RandomForestRegressor(n_estimators = 20,min_samples_leaf=10)\n",
    "rf_model.fit(train_X,train_y['cnt'])\n",
    "rf_prediction = rf_model.predict(validate_X)\n",
    "rf_rmse = mean_squared_error(validate_y,rf_prediction)**0.5\n",
    "print(\"Random Forest, VALIDATION SET, RMSE = {}\".format(round(rf_rmse,2)))\n",
    "\n",
    "r2_validate = rf_model.score(validate_X,validate_y)\n",
    "print(\"Random Forest, VALIDATION SET, R2 = {}\".format(round(r2_validate,2)))"
   ]
  },
  {
   "cell_type": "code",
   "execution_count": 28,
   "metadata": {
    "collapsed": false,
    "jupyter": {
     "outputs_hidden": false
    }
   },
   "outputs": [
    {
     "name": "stdout",
     "output_type": "stream",
     "text": [
      "Random Forest, TRAIN SET, RMSE = 48.95\n",
      "Random Forest, VALIDATION SET, R2 = 0.93\n"
     ]
    }
   ],
   "source": [
    "rf_prediction_train = rf_model.predict(train_X)\n",
    "rf_rmse_train = mean_squared_error(train_y,rf_prediction_train)**0.5\n",
    "print(\"Random Forest, TRAIN SET, RMSE = {}\".format(round(rf_rmse_train,2)))\n",
    "\n",
    "r2 = rf_model.score(train_X,train_y)\n",
    "print(\"Random Forest, VALIDATION SET, R2 = {}\".format(round(r2,2)))"
   ]
  },
  {
   "cell_type": "markdown",
   "metadata": {},
   "source": [
    "* Como previsto, o modelo de random forest não só melhorou a precisão do modelo, como também reduziu o overfitting."
   ]
  },
  {
   "cell_type": "markdown",
   "metadata": {},
   "source": [
    "## 12. Aplicando Random Forest com gridsearch para encontrar os melhores hiperparâmetros para a random forest"
   ]
  },
  {
   "cell_type": "code",
   "execution_count": 29,
   "metadata": {},
   "outputs": [],
   "source": [
    "rf_model = RandomForestRegressor()"
   ]
  },
  {
   "cell_type": "code",
   "execution_count": 30,
   "metadata": {},
   "outputs": [],
   "source": [
    "hyperparameters = {'min_samples_leaf' : [10,50,100],\n",
    "                   'n_estimators': [20,50],\n",
    "                   'max_features' : ['auto', 'sqrt', 'log2'],\n",
    "                   'min_impurity_decrease' : [0.01]}"
   ]
  },
  {
   "cell_type": "code",
   "execution_count": 31,
   "metadata": {},
   "outputs": [
    {
     "data": {
      "text/plain": [
       "GridSearchCV(cv=2, estimator=RandomForestRegressor(),\n",
       "             param_grid={'max_features': ['auto', 'sqrt', 'log2'],\n",
       "                         'min_impurity_decrease': [0.01],\n",
       "                         'min_samples_leaf': [10, 50, 100],\n",
       "                         'n_estimators': [20, 50]})"
      ]
     },
     "execution_count": 31,
     "metadata": {},
     "output_type": "execute_result"
    }
   ],
   "source": [
    "grid = GridSearchCV(rf_model, param_grid=hyperparameters, cv = 2)\n",
    "grid.fit(train_X, train_y['cnt'])"
   ]
  },
  {
   "cell_type": "code",
   "execution_count": 32,
   "metadata": {},
   "outputs": [],
   "source": [
    "best_rf = grid.best_estimator_"
   ]
  },
  {
   "cell_type": "code",
   "execution_count": 33,
   "metadata": {},
   "outputs": [
    {
     "name": "stdout",
     "output_type": "stream",
     "text": [
      "{'max_features': 'auto', 'min_impurity_decrease': 0.01, 'min_samples_leaf': 10, 'n_estimators': 50}\n"
     ]
    }
   ],
   "source": [
    "print(grid.best_params_)"
   ]
  },
  {
   "cell_type": "code",
   "execution_count": 34,
   "metadata": {},
   "outputs": [
    {
     "name": "stdout",
     "output_type": "stream",
     "text": [
      "Random Forest, VALIDATION SET, RMSE = 52.86\n",
      "Random Forest, VALIDATION SET, R2 = 0.91\n"
     ]
    }
   ],
   "source": [
    "best_rf.fit(train_X,train_y['cnt'])\n",
    "rf_prediction = best_rf.predict(validate_X)\n",
    "rf_rmse = mean_squared_error(validate_y,rf_prediction)**0.5\n",
    "print(\"Random Forest, VALIDATION SET, RMSE = {}\".format(round(rf_rmse,2)))\n",
    "\n",
    "r2_validate = best_rf.score(validate_X,validate_y)\n",
    "print(\"Random Forest, VALIDATION SET, R2 = {}\".format(round(r2_validate,2)))"
   ]
  },
  {
   "cell_type": "code",
   "execution_count": 35,
   "metadata": {},
   "outputs": [
    {
     "name": "stdout",
     "output_type": "stream",
     "text": [
      "Random Forest, TRAIN SET, RMSE = 47.83\n",
      "Random Forest, VALIDATION SET, R2 = 0.93\n"
     ]
    }
   ],
   "source": [
    "best_rf.fit(train_X,train_y['cnt'])\n",
    "rf_prediction_train = best_rf.predict(train_X)\n",
    "rf_rmse_train = mean_squared_error(train_y,rf_prediction_train)**0.5\n",
    "print(\"Random Forest, TRAIN SET, RMSE = {}\".format(round(rf_rmse_train,2)))\n",
    "\n",
    "r2 = best_rf.score(train_X,train_y)\n",
    "print(\"Random Forest, VALIDATION SET, R2 = {}\".format(round(r2,2)))"
   ]
  },
  {
   "cell_type": "markdown",
   "metadata": {},
   "source": [
    "## 13. Usando o random forest nos dados de teste"
   ]
  },
  {
   "cell_type": "code",
   "execution_count": 36,
   "metadata": {},
   "outputs": [
    {
     "name": "stdout",
     "output_type": "stream",
     "text": [
      "Random Forest, TEST SET, RMSE = 48.26\n",
      "Random Forest, VALIDATION SET, R2 = 0.92\n"
     ]
    }
   ],
   "source": [
    "rf_model_best = RandomForestRegressor(max_features = 'auto', \n",
    "                                 min_impurity_decrease = 0.01, \n",
    "                                 min_samples_leaf = 10, \n",
    "                                 n_estimators = 50)\n",
    "\n",
    "rf_model_best.fit(train_validate_X,train_validate_y['cnt'])\n",
    "\n",
    "rf_prediction = rf_model_best.predict(test_X)\n",
    "rf_rmse = mean_squared_error(test_y,rf_prediction)**0.5\n",
    "print(\"Random Forest, TEST SET, RMSE = {}\".format(round(rf_rmse,2)))\n",
    "\n",
    "r2_test = best_rf.score(test_X,test_y)\n",
    "print(\"Random Forest, VALIDATION SET, R2 = {}\".format(round(r2_test,2)))"
   ]
  },
  {
   "cell_type": "markdown",
   "metadata": {},
   "source": [
    "Como podemos ver, mesmo nos dados de teste, nunca \"vistos\" pelo modelo, e diferentes dos dados usados para fazer o hyperparameter tunning, o resultado ainda assim foi bem satisfatório!"
   ]
  },
  {
   "cell_type": "code",
   "execution_count": 37,
   "metadata": {},
   "outputs": [],
   "source": [
    "pd.options.mode.chained_assignment = None  # default='warn'"
   ]
  },
  {
   "cell_type": "code",
   "execution_count": 38,
   "metadata": {},
   "outputs": [],
   "source": [
    "comparacao = test[['cnt']]\n",
    "comparacao['cnt_prediction'] = rf_prediction\n",
    "comparacao['cnt_prediction'] = comparacao['cnt_prediction'].astype('int')\n",
    "amostra = comparacao.sample(20, random_state = 1)"
   ]
  },
  {
   "cell_type": "markdown",
   "metadata": {},
   "source": [
    "**Plotando os dados para visualizar diferença entre previsões e dados reais**"
   ]
  },
  {
   "cell_type": "code",
   "execution_count": 39,
   "metadata": {},
   "outputs": [
    {
     "data": {
      "image/png": "[encoded data removed]",
      "text/plain": [
       "<Figure size 864x576 with 1 Axes>"
      ]
     },
     "metadata": {
      "needs_background": "light"
     },
     "output_type": "display_data"
    }
   ],
   "source": [
    "labels = amostra.index\n",
    "\n",
    "x = np.arange(len(labels))  # the label locations\n",
    "width = 0.35  # the width of the bars\n",
    "\n",
    "fig = plt.figure(figsize = (12,8))\n",
    "ax = fig.add_subplot()\n",
    "rects1 = ax.bar(x - width/2, amostra['cnt'], width, label='Real')\n",
    "rects2 = ax.bar(x + width/2, amostra['cnt_prediction'], width, label='Previsto')\n",
    "\n",
    "ax.set_ylabel('Quantidade de alugueis')\n",
    "ax.set_title('Amostra de valores reais e previstos')\n",
    "ax.set_xticks(x)\n",
    "ax.set_xticklabels(labels)\n",
    "ax.legend()\n",
    "\n",
    "\n",
    "fig.tight_layout()\n",
    "\n",
    "plt.show()"
   ]
  }
 ],
 "metadata": {
  "kernelspec": {
   "display_name": "Python 3",
   "language": "python",
   "name": "python3"
  },
  "language_info": {
   "codemirror_mode": {
    "name": "ipython",
    "version": 3
   },
   "file_extension": ".py",
   "mimetype": "text/x-python",
   "name": "python",
   "nbconvert_exporter": "python",
   "pygments_lexer": "ipython3",
   "version": "3.8.8"
  }
 },
 "nbformat": 4,
 "nbformat_minor": 4
}
